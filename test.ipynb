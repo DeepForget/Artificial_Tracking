{
 "cells": [
  {
   "cell_type": "code",
   "execution_count": 6,
   "metadata": {},
   "outputs": [],
   "source": [
    "import numpy as np\n",
    "import cv2\n",
    "from numpy.random import randint"
   ]
  },
  {
   "cell_type": "code",
   "execution_count": 3,
   "metadata": {},
   "outputs": [],
   "source": [
    "class Opt(object):\n",
    "    pass"
   ]
  },
  {
   "cell_type": "code",
   "execution_count": 5,
   "metadata": {},
   "outputs": [],
   "source": [
    "opt = Opt()\n",
    "opt.width = 1920\n",
    "opt.height = 1080\n",
    "opt.depth = 10\n",
    "opt.max_x_speed = 20\n",
    "opt.max_y_speed = 10\n",
    "opt.max_acc = 2\n",
    "opt.min_size = 20\n",
    "opt.max_size = 300\n",
    "opt.change_size = True"
   ]
  },
  {
   "cell_type": "code",
   "execution_count": null,
   "metadata": {},
   "outputs": [],
   "source": [
    "class Shape(object):\n",
    "    \n",
    "    _id = 0\n",
    "    \n",
    "    def __init__(self, opt):\n",
    "        self.opt = opt\n",
    "        self.x = randint(0, opt.width)\n",
    "        self.y = randint(0, opt.height)\n",
    "        self.size = randint(opt.min_size, opt.max_size)\n",
    "        assert(not (fore_ground and background))\n",
    "        if fore_ground:\n",
    "            self.z = 0\n",
    "        elif background:\n",
    "            self.z = opt.depth\n",
    "        else:\n",
    "            self.z = randint(0, opt.depth)\n",
    "        self.color = randint(0, 256, 3)\n",
    "        self.vx = randint(-opt.max_x_speed, opt.max_x_speed+1)\n",
    "        self.vy = randint(-opt.max_y_speed, opt.max_y_speed+1)\n",
    "        self.id = Shape._id\n",
    "        Shape._id += 1\n",
    "        \n",
    "    def draw(self, image):\n",
    "        raise NotImplemented\n",
    "        \n",
    "    def draw_meta(self, image):\n",
    "        raise NotImplemented\n",
    "        \n",
    "    def get_bb(self):\n",
    "        raise NotImplemented\n",
    "        \n",
    "    def move(self):\n",
    "        self.x += self.vx\n",
    "        self.y += self.vy\n",
    "        \n",
    "        max_acc = self.opt.max_acc\n",
    "        \n",
    "        self.vx += randint(-max_acc, max_acc+1)\n",
    "        max_x_speed = self.opt.max_x_speed\n",
    "        self.vx = min(max(self.vx, -max_x_speed), max_x_speed)\n",
    "        \n",
    "        self.vy += randint(-max_acc, max_acc+1)\n",
    "        max_y_speed = self.opt.max_y_speed\n",
    "        self.vy = min(max(self.vy, -max_y_speed), max_y_speed)\n",
    "        \n",
    "        if self.opt.change_size:\n",
    "            self.size *= "
   ]
  },
  {
   "cell_type": "code",
   "execution_count": null,
   "metadata": {},
   "outputs": [],
   "source": []
  }
 ],
 "metadata": {
  "kernelspec": {
   "display_name": "Python 2",
   "language": "python",
   "name": "python2"
  },
  "language_info": {
   "codemirror_mode": {
    "name": "ipython",
    "version": 2
   },
   "file_extension": ".py",
   "mimetype": "text/x-python",
   "name": "python",
   "nbconvert_exporter": "python",
   "pygments_lexer": "ipython2",
   "version": "2.7.12"
  }
 },
 "nbformat": 4,
 "nbformat_minor": 2
}
